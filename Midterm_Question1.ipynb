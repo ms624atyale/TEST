{
  "nbformat": 4,
  "nbformat_minor": 0,
  "metadata": {
    "colab": {
      "provenance": [],
      "authorship_tag": "ABX9TyOAh72z4ILMUm6YnbpXVdP4",
      "include_colab_link": true
    },
    "kernelspec": {
      "name": "python3",
      "display_name": "Python 3"
    },
    "language_info": {
      "name": "python"
    }
  },
  "cells": [
    {
      "cell_type": "markdown",
      "metadata": {
        "id": "view-in-github",
        "colab_type": "text"
      },
      "source": [
        "<a href=\"https://colab.research.google.com/github/ms624atyale/TEST/blob/main/Midterm_Question1.ipynb\" target=\"_parent\"><img src=\"https://colab.research.google.com/assets/colab-badge.svg\" alt=\"Open In Colab\"/></a>"
      ]
    },
    {
      "cell_type": "markdown",
      "source": [
        "## 🌀 The fowlloing two scripts are for Question#1 of the Midterm.\n",
        "\n",
        "## ☀️ Run the following two code cells and determine which result in a larger stdev.\n",
        "\n",
        "**Step 1: Upload two csv. files.**\n",
        "\n",
        "df = pd.read_csv('input_data_NormalDistribution_First.csv')\n",
        "\n",
        "df = pd.read_csv('input_data_NormalDistribution_Second.csv')\n",
        ">\n",
        "**Step 2: In this stage, you should know how to deal with files in the current working directory of the Colab Files.**\n",
        "\n",
        "1. You should know how to upload csv files in the Colab files directory.\n",
        "2. You should know how to put your file in the current working directory.  "
      ],
      "metadata": {
        "id": "2TlnK3_rwps2"
      }
    },
    {
      "cell_type": "markdown",
      "source": [
        "# <font color = 'red'> **<OPTION 1>** ⤵️"
      ],
      "metadata": {
        "id": "XFGX39Z60Q-O"
      }
    },
    {
      "cell_type": "code",
      "execution_count": null,
      "metadata": {
        "id": "6HU7ziU2NLDh"
      },
      "outputs": [],
      "source": [
        "import numpy as np\n",
        "import pandas as pd\n",
        "import matplotlib.pyplot as plt\n",
        "from scipy.stats import norm\n",
        "\n",
        "# Load the data from the CSV file\n",
        "df = pd.read_csv('input_data_NormalDistribution_First.csv')\n",
        "# Extract values from the DataFrame\n",
        "data = df['value']\n",
        "\n",
        "# Fit a normal distribution to the data\n",
        "mu, std = norm.fit(data)\n",
        "\n",
        "# Plot the histogram\n",
        "plt.hist(data, bins=10, density=True, alpha=0.6, color='g')\n",
        "\n",
        "# Plot the PDF (Probability Density Function) of the fitted normal distribution\n",
        "xmin, xmax = plt.xlim()\n",
        "x = np.linspace(xmin, xmax, 100)\n",
        "p = norm.pdf(x, mu, std)\n",
        "plt.plot(x, p, 'k', linewidth=2)\n",
        "\n",
        "# Add labels and a title\n",
        "plt.title(\"Fit results: mu = %.2f,  std = %.2f\" % (mu, std))\n",
        "plt.xlabel('Value')\n",
        "plt.ylabel('Frequency')\n",
        "\n",
        "# Display the plot\n",
        "plt.show()\n"
      ]
    },
    {
      "cell_type": "markdown",
      "source": [
        "# <font color = 'red'> **<OPTION 2>** ⤵️"
      ],
      "metadata": {
        "id": "7ZiAgkFU0l1-"
      }
    },
    {
      "cell_type": "code",
      "source": [
        "import numpy as np\n",
        "import pandas as pd\n",
        "import matplotlib.pyplot as plt\n",
        "from scipy.stats import norm\n",
        "\n",
        "# Load the data from the CSV file\n",
        "df = pd.read_csv('input_data_NormalDistribution_Second.csv')\n",
        "\n",
        "# Convert values to numeric data type with error handling\n",
        "data = pd.to_numeric(df['value'], errors='coerce')\n",
        "\n",
        "# Drop NaN values\n",
        "data = data.dropna()\n",
        "\n",
        "# Fit a normal distribution to the data\n",
        "mu, std = norm.fit(data)\n",
        "\n",
        "# Plot the histogram\n",
        "plt.hist(data, bins=10, density=True, alpha=0.6, color='g')\n",
        "\n",
        "# Plot the PDF (Probability Density Function) of the fitted normal distribution\n",
        "xmin, xmax = plt.xlim()\n",
        "x = np.linspace(xmin, xmax, 100)\n",
        "p = norm.pdf(x, mu, std)\n",
        "plt.plot(x, p, 'k', linewidth=2)\n",
        "\n",
        "# Add labels and a title\n",
        "plt.title(\"Fit results: mu = %.2f,  std = %.2f\" % (mu, std))\n",
        "plt.xlabel('Value')\n",
        "plt.ylabel('Frequency')\n",
        "\n",
        "# Display the plot\n",
        "plt.show()"
      ],
      "metadata": {
        "id": "6_d3r4z4vNEw"
      },
      "execution_count": null,
      "outputs": []
    }
  ]
}